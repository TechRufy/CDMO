{
 "nbformat": 4,
 "nbformat_minor": 0,
 "metadata": {
  "colab": {
   "provenance": []
  },
  "kernelspec": {
   "name": "python3",
   "language": "python",
   "display_name": "Python 3 (ipykernel)"
  },
  "language_info": {
   "name": "python"
  }
 },
 "cells": [
  {
   "cell_type": "code",
   "execution_count": 1,
   "metadata": {
    "colab": {
     "base_uri": "https://localhost:8080/"
    },
    "id": "TvJshXNiLCdc",
    "outputId": "6db26ec0-deb7-40db-d105-fb762fa852b5",
    "ExecuteTime": {
     "end_time": "2024-08-27T20:23:27.415123600Z",
     "start_time": "2024-08-27T20:23:21.522636800Z"
    }
   },
   "outputs": [
    {
     "name": "stdout",
     "output_type": "stream",
     "text": [
      "Collecting pulp\n",
      "  Downloading PuLP-2.9.0-py3-none-any.whl (17.7 MB)\n",
      "     ---------------------------------------- 17.7/17.7 MB 6.7 MB/s eta 0:00:00\n",
      "Installing collected packages: pulp\n",
      "Successfully installed pulp-2.9.0\n"
     ]
    },
    {
     "name": "stderr",
     "output_type": "stream",
     "text": [
      "\n",
      "[notice] A new release of pip available: 22.3.1 -> 24.2\n",
      "[notice] To update, run: python.exe -m pip install --upgrade pip\n"
     ]
    }
   ],
   "source": [
    "!python -m pip install pulp"
   ]
  },
  {
   "cell_type": "code",
   "source": [
    "from pulp import *"
   ],
   "metadata": {
    "id": "wUfNgExkLK5h",
    "ExecuteTime": {
     "end_time": "2024-08-27T20:23:27.592631400Z",
     "start_time": "2024-08-27T20:23:27.412109400Z"
    }
   },
   "execution_count": 2,
   "outputs": []
  },
  {
   "cell_type": "code",
   "source": [
    "# import of an instance\n",
    "def import_instance(path):\n",
    "  with open(path, 'r') as f:\n",
    "    lines = f.readlines()\n",
    "\n",
    "    m = int(lines[0].strip())\n",
    "    n = int(lines[1].strip())\n",
    "    l = [int(x) for x in lines[2].strip().split()]\n",
    "    s = [int(x) for x in lines[3].strip().split()]\n",
    "\n",
    "    dist_data = [line.strip().split() for line in lines][4:]\n",
    "    D = [[int(x) for x in row] for row in dist_data]\n",
    "  return m, n, l, s, D"
   ],
   "metadata": {
    "id": "1njwFwBcLpxg",
    "ExecuteTime": {
     "end_time": "2024-08-27T20:23:27.615360200Z",
     "start_time": "2024-08-27T20:23:27.478250800Z"
    }
   },
   "execution_count": 3,
   "outputs": []
  },
  {
   "cell_type": "code",
   "source": [
    "#Define problem parameters\n",
    "m, n, l, s, D = import_instance('inst09.dat')\n",
    "\n",
    "#Create decision variables\n",
    "choices = LpVariable.dicts(\"choices\", (range(n+1), range(n+1),range(m)), cat=LpBinary,lowBound=0)\n",
    "longest = LpVariable(\"longest\", lowBound=0,cat=LpInteger)\n",
    "c = LpVariable.dicts(\"c\", (range(n+1),range(m)), lowBound=0,upBound=n,cat=LpInteger)\n",
    "#Create problem instance\n",
    "prob = LpProblem(\"MCP\", LpMinimize)\n",
    "\n",
    "\n",
    "\n",
    "#objective function\n",
    "prob += longest\n",
    "\n",
    "#ensure that longest is the max of all the distance\n",
    "d = [lpSum([D[i][j] * choices[i][j][k] for i in range(n+1) for j in range(n+1) ]) for k in range(m)]\n",
    "\n",
    "#ensure that longest is the maximum of the distance\n",
    "for k in range(m):\n",
    "  prob += longest >= d[k]\n",
    "\n",
    "#ensure that there is only one edge starting from an item by limiting to 1 the number of 1 in a rows\n",
    "for i in range(n):\n",
    "  prob += lpSum([choices[i][j] for j in range(n+1) if i != j]) == 1\n",
    "\n",
    "#ensure that there is only one edge going in an item by limiting to 1 the number of 1 in a columns\n",
    "for i in range(n):\n",
    "  prob += lpSum([choices[j][i] for j in range(n+1) if i != j]) == 1\n",
    "\n",
    "#ensure that each courier start only one time from the origin\n",
    "for k in range(m):\n",
    "  prob += lpSum([choices[n][j][k] for j in range(n)]) == 1\n",
    "\n",
    "#ensure that each courier ends only one time in the origin\n",
    "for k in range(m):\n",
    "  prob += lpSum([choices[j][n][k] for j in range(n)]) == 1\n",
    "\n",
    "#no arc between the same item\n",
    "for i in range(n+1):\n",
    "    prob += lpSum(choices[i][i]) == 0\n",
    "\n",
    "\n",
    "# Ensures that paths are connected\n",
    "for k in range(m):\n",
    "  for i in range(n+1):\n",
    "    for j in range(n):\n",
    "      if i != j:\n",
    "        if i == n:\n",
    "          prob += choices[i][j][k] <= lpSum([choices[j][h][k] for h in range(n+1) if h != j])\n",
    "        else:\n",
    "          prob += choices[i][j][k] <= lpSum([choices[j][h][k] for h in range(n+1) if h != j and h != i])\n",
    "\n",
    "\n",
    "#ensure that the item are below the load limit\n",
    "for k in range(m):\n",
    "  prob += lpSum([s[i] * choices[i][j][k] for i in range(n) for j in range(n+1) ]) <= l[k]\n",
    "\n",
    "\n",
    "#subtour elimination\n",
    "for k in range(m):\n",
    "  for i in range(n):\n",
    "    for j in range(n):\n",
    "      if i!=j:\n",
    "        prob += c[i][k] + choices[i][j][k] <= c[j][k] + (n-1)*(1-choices[i][j][k])\n",
    "\n",
    "\n",
    "\n",
    "time_limit_in_seconds = 60*5\n",
    "\n",
    "prob.solve(PULP_CBC_CMD(msg=1, timeLimit=time_limit_in_seconds))\n",
    "\n",
    "\n",
    "#Solve the problem\n",
    "\n",
    "#Print the solution\n",
    "print(LpStatus[prob.status])\n",
    "print(\"Optimal solution:\")\n",
    "for k in range(m):\n",
    "  for i in range(n+1):\n",
    "    for j in range(n+1):\n",
    "        if choices[i][j][k].varValue > 0:\n",
    "            print(f\"Courier {k+1} goes from {i+1} to {j+1}\")\n",
    "            #print(choices[i][j][k], \"=\", choices[i][j][k].varValue)\n",
    "        else:\n",
    "          #print(choices[i][j][k], \"=\", choices[i][j][k].varValue)\n",
    "          pass\n",
    "#print(prob)\n",
    "print(\"Total distance:\", value(prob.objective))"
   ],
   "metadata": {
    "id": "pdEJJoYDZLCq",
    "ExecuteTime": {
     "end_time": "2024-08-27T20:32:07.567152900Z",
     "start_time": "2024-08-27T20:27:06.947737200Z"
    }
   },
   "execution_count": 5,
   "outputs": [
    {
     "name": "stdout",
     "output_type": "stream",
     "text": [
      "Optimal\n",
      "Optimal solution:\n",
      "Courier 1 goes from 3 to 5\n",
      "Courier 1 goes from 5 to 7\n",
      "Courier 1 goes from 7 to 14\n",
      "Courier 1 goes from 14 to 3\n",
      "Courier 2 goes from 6 to 14\n",
      "Courier 2 goes from 14 to 6\n",
      "Courier 3 goes from 12 to 14\n",
      "Courier 3 goes from 14 to 12\n",
      "Courier 4 goes from 8 to 14\n",
      "Courier 4 goes from 14 to 8\n",
      "Courier 5 goes from 9 to 14\n",
      "Courier 5 goes from 14 to 9\n",
      "Courier 6 goes from 1 to 14\n",
      "Courier 6 goes from 14 to 1\n",
      "Courier 7 goes from 2 to 14\n",
      "Courier 7 goes from 14 to 2\n",
      "Courier 8 goes from 10 to 14\n",
      "Courier 8 goes from 14 to 10\n",
      "Courier 9 goes from 4 to 13\n",
      "Courier 9 goes from 13 to 14\n",
      "Courier 9 goes from 14 to 4\n",
      "Courier 10 goes from 11 to 14\n",
      "Courier 10 goes from 14 to 11\n",
      "Total distance: 436.0\n"
     ]
    }
   ]
  },
  {
   "cell_type": "code",
   "source": [],
   "metadata": {
    "id": "y04uOOjzEs9r"
   },
   "execution_count": null,
   "outputs": []
  }
 ]
}
